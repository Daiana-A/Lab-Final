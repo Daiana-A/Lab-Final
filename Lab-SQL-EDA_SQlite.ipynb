{
 "cells": [
  {
   "cell_type": "markdown",
   "metadata": {},
   "source": [
    "<center>\n",
    "<img src=\"https://cf-courses-data.s3.us.cloud-object-storage.appdomain.cloud/IBMDeveloperSkillsNetwork-RP0321EN-SkillsNetwork/labs/module_1/images/SN_web_lightmode.png\" width=\"300\"> \n",
    "</center>\n",
    "\n",
    "# Assignment: Exploratory Data Analysis with SQL\n",
    "Estimated time needed: 60 minutes\n",
    "\n",
    "\n",
    "# Introduction\n",
    "Using this R notebook you will perform exploratory data analysis using SQL queries with the RSQLite R package. You will be graded on the accuracy of your results as well as the content of your SQL queries.\n"
   ]
  },
  {
   "cell_type": "markdown",
   "metadata": {},
   "source": [
    "### Establish your SQL Lite connection\n",
    "\n",
    "#### Install RSQLite package\n",
    "The RSQlite  package needs to be installed in your notebook. Let’s load the RSQLite package by clicking on the following cell and executing it (Shift+Enter):\n"
   ]
  },
  {
   "cell_type": "code",
   "execution_count": 1,
   "metadata": {},
   "outputs": [
    {
     "name": "stderr",
     "output_type": "stream",
     "text": [
      "Updating HTML index of packages in '.Library'\n",
      "\n",
      "Making 'packages.html' ...\n",
      " done\n",
      "\n"
     ]
    }
   ],
   "source": [
    "install.packages(\"RSQLite\")  # Instala el paquete\n",
    "library(RSQLite)  # Carga el paquete\n"
   ]
  },
  {
   "cell_type": "code",
   "execution_count": 2,
   "metadata": {},
   "outputs": [],
   "source": [
    "con <- dbConnect(RSQLite::SQLite(), \"nombre_de_tu_base_de_datos.sqlite\")\n",
    "\n"
   ]
  },
  {
   "cell_type": "code",
   "execution_count": 3,
   "metadata": {},
   "outputs": [
    {
     "data": {
      "text/html": [
       "TRUE"
      ],
      "text/latex": [
       "TRUE"
      ],
      "text/markdown": [
       "TRUE"
      ],
      "text/plain": [
       "[1] TRUE"
      ]
     },
     "metadata": {},
     "output_type": "display_data"
    }
   ],
   "source": [
    "dbIsValid(con)  # Revisa si la conexión está activa\n",
    "\n"
   ]
  },
  {
   "cell_type": "code",
   "execution_count": 10,
   "metadata": {
    "scrolled": true
   },
   "outputs": [
    {
     "name": "stdout",
     "output_type": "stream",
     "text": [
      "[1] \"BIKE_SHARING_SYSTEMS\"    \"CITIES_WEATHER_FORECAST\"\n",
      "[3] \"SEOUL_BIKE_SHARING\"      \"WORLD_CITIES\"           \n"
     ]
    }
   ],
   "source": [
    "con <- dbConnect(RSQLite::SQLite(), \"mi_base_de_datos.sqlite\")\n",
    "print(dbListTables(con))\n",
    "\n",
    "\n"
   ]
  },
  {
   "cell_type": "code",
   "execution_count": 3,
   "metadata": {},
   "outputs": [],
   "source": [
    "con <- dbConnect(RSQLite::SQLite(), \"nombre_de_tu_base_de_datos.sqlite\")\n"
   ]
  },
  {
   "cell_type": "code",
   "execution_count": 1,
   "metadata": {},
   "outputs": [
    {
     "name": "stderr",
     "output_type": "stream",
     "text": [
      "Warning message in install.packages(\"https://cran.r-project.org/src/contrib/Archive/RSQLite/RSQLite_0.10.0.tar.gz\", :\n",
      "“installation of package ‘/tmp/RtmpsUtaU4/downloaded_packages/RSQLite_0.10.0.tar.gz’ had non-zero exit status”\n"
     ]
    }
   ],
   "source": [
    "install.packages(\"https://cran.r-project.org/src/contrib/Archive/RSQLite/RSQLite_0.10.0.tar.gz\", repos = NULL, type = \"source\", dependencies = TRUE) "
   ]
  },
  {
   "cell_type": "markdown",
   "metadata": {},
   "source": [
    "#### Restart Kernel\n",
    "\n",
    "After installing the RSQLite package, it is necessary to restart R Kernel. Click **Kernel** > **Restart Kernel** from the main menu. This will register the newly installed packages. Now proceed to load the RSQLite package. \n"
   ]
  },
  {
   "cell_type": "markdown",
   "metadata": {},
   "source": [
    "#### Load RSQLite\n",
    "Load the 'RSQLite' library, and use the 'dbConnect( )' function as you did in the previous labs to establish the connection to your SQLite database.  \n",
    "You are now ready to start running SQL queries using the RSQLite library as you did in Course 3.\n"
   ]
  },
  {
   "cell_type": "code",
   "execution_count": 1,
   "metadata": {},
   "outputs": [],
   "source": [
    "library(\"RSQLite\")"
   ]
  },
  {
   "cell_type": "code",
   "execution_count": 1,
   "metadata": {},
   "outputs": [],
   "source": [
    "# provide your solution here to connect db\n",
    "library(DBI)\n",
    "library(RSQLite)\n",
    "\n",
    "# Crear la conexión a la base de datos\n",
    "con <- dbConnect(RSQLite::SQLite(), \"mi_base_de_datos.sqlite\")\n"
   ]
  },
  {
   "cell_type": "code",
   "execution_count": 2,
   "metadata": {},
   "outputs": [],
   "source": [
    "library(DBI)\n",
    "library(RSQLite)\n",
    "library(readr)  # Para leer los archivos CSV\n",
    "\n",
    "\n"
   ]
  },
  {
   "cell_type": "code",
   "execution_count": 4,
   "metadata": {},
   "outputs": [
    {
     "data": {
      "text/html": [
       "<table class=\"dataframe\">\n",
       "<caption>A data.frame: 5 × 11</caption>\n",
       "<thead>\n",
       "\t<tr><th scope=col>CITY</th><th scope=col>CITY_ASCII</th><th scope=col>LAT</th><th scope=col>LNG</th><th scope=col>COUNTRY</th><th scope=col>ISO2</th><th scope=col>ISO3</th><th scope=col>ADMIN_NAME</th><th scope=col>CAPITAL</th><th scope=col>POPULATION</th><th scope=col>ID</th></tr>\n",
       "\t<tr><th scope=col>&lt;chr&gt;</th><th scope=col>&lt;chr&gt;</th><th scope=col>&lt;dbl&gt;</th><th scope=col>&lt;dbl&gt;</th><th scope=col>&lt;chr&gt;</th><th scope=col>&lt;chr&gt;</th><th scope=col>&lt;chr&gt;</th><th scope=col>&lt;chr&gt;</th><th scope=col>&lt;chr&gt;</th><th scope=col>&lt;dbl&gt;</th><th scope=col>&lt;dbl&gt;</th></tr>\n",
       "</thead>\n",
       "<tbody>\n",
       "\t<tr><td>Tokyo  </td><td>Tokyo  </td><td>35.6897</td><td>139.6922</td><td>Japan      </td><td>JP</td><td>JPN</td><td>Tōkyō      </td><td>primary</td><td>37977000</td><td>1392685764</td></tr>\n",
       "\t<tr><td>Jakarta</td><td>Jakarta</td><td>-6.2146</td><td>106.8451</td><td>Indonesia  </td><td>ID</td><td>IDN</td><td>Jakarta    </td><td>primary</td><td>34540000</td><td>1360771077</td></tr>\n",
       "\t<tr><td>Delhi  </td><td>Delhi  </td><td>28.6600</td><td> 77.2300</td><td>India      </td><td>IN</td><td>IND</td><td>Delhi      </td><td>admin  </td><td>29617000</td><td>1356872604</td></tr>\n",
       "\t<tr><td>Mumbai </td><td>Mumbai </td><td>18.9667</td><td> 72.8333</td><td>India      </td><td>IN</td><td>IND</td><td>Mahārāshtra</td><td>admin  </td><td>23355000</td><td>1356226629</td></tr>\n",
       "\t<tr><td>Manila </td><td>Manila </td><td>14.5958</td><td>120.9772</td><td>Philippines</td><td>PH</td><td>PHL</td><td>Manila     </td><td>primary</td><td>23088000</td><td>1608618140</td></tr>\n",
       "</tbody>\n",
       "</table>\n"
      ],
      "text/latex": [
       "A data.frame: 5 × 11\n",
       "\\begin{tabular}{lllllllllll}\n",
       " CITY & CITY\\_ASCII & LAT & LNG & COUNTRY & ISO2 & ISO3 & ADMIN\\_NAME & CAPITAL & POPULATION & ID\\\\\n",
       " <chr> & <chr> & <dbl> & <dbl> & <chr> & <chr> & <chr> & <chr> & <chr> & <dbl> & <dbl>\\\\\n",
       "\\hline\n",
       "\t Tokyo   & Tokyo   & 35.6897 & 139.6922 & Japan       & JP & JPN & Tōkyō       & primary & 37977000 & 1392685764\\\\\n",
       "\t Jakarta & Jakarta & -6.2146 & 106.8451 & Indonesia   & ID & IDN & Jakarta     & primary & 34540000 & 1360771077\\\\\n",
       "\t Delhi   & Delhi   & 28.6600 &  77.2300 & India       & IN & IND & Delhi       & admin   & 29617000 & 1356872604\\\\\n",
       "\t Mumbai  & Mumbai  & 18.9667 &  72.8333 & India       & IN & IND & Mahārāshtra & admin   & 23355000 & 1356226629\\\\\n",
       "\t Manila  & Manila  & 14.5958 & 120.9772 & Philippines & PH & PHL & Manila      & primary & 23088000 & 1608618140\\\\\n",
       "\\end{tabular}\n"
      ],
      "text/markdown": [
       "\n",
       "A data.frame: 5 × 11\n",
       "\n",
       "| CITY &lt;chr&gt; | CITY_ASCII &lt;chr&gt; | LAT &lt;dbl&gt; | LNG &lt;dbl&gt; | COUNTRY &lt;chr&gt; | ISO2 &lt;chr&gt; | ISO3 &lt;chr&gt; | ADMIN_NAME &lt;chr&gt; | CAPITAL &lt;chr&gt; | POPULATION &lt;dbl&gt; | ID &lt;dbl&gt; |\n",
       "|---|---|---|---|---|---|---|---|---|---|---|\n",
       "| Tokyo   | Tokyo   | 35.6897 | 139.6922 | Japan       | JP | JPN | Tōkyō       | primary | 37977000 | 1392685764 |\n",
       "| Jakarta | Jakarta | -6.2146 | 106.8451 | Indonesia   | ID | IDN | Jakarta     | primary | 34540000 | 1360771077 |\n",
       "| Delhi   | Delhi   | 28.6600 |  77.2300 | India       | IN | IND | Delhi       | admin   | 29617000 | 1356872604 |\n",
       "| Mumbai  | Mumbai  | 18.9667 |  72.8333 | India       | IN | IND | Mahārāshtra | admin   | 23355000 | 1356226629 |\n",
       "| Manila  | Manila  | 14.5958 | 120.9772 | Philippines | PH | PHL | Manila      | primary | 23088000 | 1608618140 |\n",
       "\n"
      ],
      "text/plain": [
       "  CITY    CITY_ASCII LAT     LNG      COUNTRY     ISO2 ISO3 ADMIN_NAME  CAPITAL\n",
       "1 Tokyo   Tokyo      35.6897 139.6922 Japan       JP   JPN  Tōkyō       primary\n",
       "2 Jakarta Jakarta    -6.2146 106.8451 Indonesia   ID   IDN  Jakarta     primary\n",
       "3 Delhi   Delhi      28.6600  77.2300 India       IN   IND  Delhi       admin  \n",
       "4 Mumbai  Mumbai     18.9667  72.8333 India       IN   IND  Mahārāshtra admin  \n",
       "5 Manila  Manila     14.5958 120.9772 Philippines PH   PHL  Manila      primary\n",
       "  POPULATION ID        \n",
       "1 37977000   1392685764\n",
       "2 34540000   1360771077\n",
       "3 29617000   1356872604\n",
       "4 23355000   1356226629\n",
       "5 23088000   1608618140"
      ]
     },
     "metadata": {},
     "output_type": "display_data"
    },
    {
     "data": {
      "text/html": [
       "<table class=\"dataframe\">\n",
       "<caption>A data.frame: 5 × 4</caption>\n",
       "<thead>\n",
       "\t<tr><th scope=col>COUNTRY</th><th scope=col>CITY</th><th scope=col>SYSTEM</th><th scope=col>BICYCLES</th></tr>\n",
       "\t<tr><th scope=col>&lt;chr&gt;</th><th scope=col>&lt;chr&gt;</th><th scope=col>&lt;chr&gt;</th><th scope=col>&lt;dbl&gt;</th></tr>\n",
       "</thead>\n",
       "<tbody>\n",
       "\t<tr><td>Albania  </td><td>Tirana               </td><td>NA            </td><td> 200</td></tr>\n",
       "\t<tr><td>Argentina</td><td>Mendoza              </td><td>NA            </td><td>  40</td></tr>\n",
       "\t<tr><td>Argentina</td><td>San Lorenzo, Santa Fe</td><td>Biciudad      </td><td>  80</td></tr>\n",
       "\t<tr><td>Argentina</td><td>Buenos Aires         </td><td>Serttel Brasil</td><td>4000</td></tr>\n",
       "\t<tr><td>Argentina</td><td>Rosario              </td><td>NA            </td><td> 480</td></tr>\n",
       "</tbody>\n",
       "</table>\n"
      ],
      "text/latex": [
       "A data.frame: 5 × 4\n",
       "\\begin{tabular}{llll}\n",
       " COUNTRY & CITY & SYSTEM & BICYCLES\\\\\n",
       " <chr> & <chr> & <chr> & <dbl>\\\\\n",
       "\\hline\n",
       "\t Albania   & Tirana                & NA             &  200\\\\\n",
       "\t Argentina & Mendoza               & NA             &   40\\\\\n",
       "\t Argentina & San Lorenzo, Santa Fe & Biciudad       &   80\\\\\n",
       "\t Argentina & Buenos Aires          & Serttel Brasil & 4000\\\\\n",
       "\t Argentina & Rosario               & NA             &  480\\\\\n",
       "\\end{tabular}\n"
      ],
      "text/markdown": [
       "\n",
       "A data.frame: 5 × 4\n",
       "\n",
       "| COUNTRY &lt;chr&gt; | CITY &lt;chr&gt; | SYSTEM &lt;chr&gt; | BICYCLES &lt;dbl&gt; |\n",
       "|---|---|---|---|\n",
       "| Albania   | Tirana                | NA             |  200 |\n",
       "| Argentina | Mendoza               | NA             |   40 |\n",
       "| Argentina | San Lorenzo, Santa Fe | Biciudad       |   80 |\n",
       "| Argentina | Buenos Aires          | Serttel Brasil | 4000 |\n",
       "| Argentina | Rosario               | NA             |  480 |\n",
       "\n"
      ],
      "text/plain": [
       "  COUNTRY   CITY                  SYSTEM         BICYCLES\n",
       "1 Albania   Tirana                NA              200    \n",
       "2 Argentina Mendoza               NA               40    \n",
       "3 Argentina San Lorenzo, Santa Fe Biciudad         80    \n",
       "4 Argentina Buenos Aires          Serttel Brasil 4000    \n",
       "5 Argentina Rosario               NA              480    "
      ]
     },
     "metadata": {},
     "output_type": "display_data"
    },
    {
     "data": {
      "text/html": [
       "<table class=\"dataframe\">\n",
       "<caption>A data.frame: 5 × 12</caption>\n",
       "<thead>\n",
       "\t<tr><th scope=col>CITY</th><th scope=col>WEATHER</th><th scope=col>VISIBILITY</th><th scope=col>TEMP</th><th scope=col>TEMP_MIN</th><th scope=col>TEMP_MAX</th><th scope=col>PRESSURE</th><th scope=col>HUMIDITY</th><th scope=col>WIND_SPEED</th><th scope=col>WIND_DEG</th><th scope=col>SEASON</th><th scope=col>FORECAST_DATETIME</th></tr>\n",
       "\t<tr><th scope=col>&lt;chr&gt;</th><th scope=col>&lt;chr&gt;</th><th scope=col>&lt;dbl&gt;</th><th scope=col>&lt;dbl&gt;</th><th scope=col>&lt;dbl&gt;</th><th scope=col>&lt;dbl&gt;</th><th scope=col>&lt;dbl&gt;</th><th scope=col>&lt;dbl&gt;</th><th scope=col>&lt;dbl&gt;</th><th scope=col>&lt;dbl&gt;</th><th scope=col>&lt;chr&gt;</th><th scope=col>&lt;dbl&gt;</th></tr>\n",
       "</thead>\n",
       "<tbody>\n",
       "\t<tr><td>Seoul</td><td>Clear </td><td>10000</td><td>12.32</td><td>10.91</td><td>12.32</td><td>1015</td><td>50</td><td>2.18</td><td>248</td><td>Spring</td><td>1618574400</td></tr>\n",
       "\t<tr><td>Seoul</td><td>Clear </td><td>10000</td><td>11.48</td><td> 9.81</td><td>11.48</td><td>1016</td><td>48</td><td>1.25</td><td>142</td><td>Spring</td><td>1618585200</td></tr>\n",
       "\t<tr><td>Seoul</td><td>Clouds</td><td>10000</td><td> 9.99</td><td> 8.82</td><td> 9.99</td><td>1015</td><td>46</td><td>0.94</td><td>130</td><td>Spring</td><td>1618596000</td></tr>\n",
       "\t<tr><td>Seoul</td><td>Clouds</td><td>10000</td><td> 7.87</td><td> 7.87</td><td> 7.87</td><td>1014</td><td>46</td><td>0.83</td><td> 31</td><td>Spring</td><td>1618606800</td></tr>\n",
       "\t<tr><td>Seoul</td><td>Clouds</td><td>10000</td><td>10.09</td><td>10.09</td><td>10.09</td><td>1014</td><td>37</td><td>1.96</td><td>309</td><td>Spring</td><td>1618617600</td></tr>\n",
       "</tbody>\n",
       "</table>\n"
      ],
      "text/latex": [
       "A data.frame: 5 × 12\n",
       "\\begin{tabular}{llllllllllll}\n",
       " CITY & WEATHER & VISIBILITY & TEMP & TEMP\\_MIN & TEMP\\_MAX & PRESSURE & HUMIDITY & WIND\\_SPEED & WIND\\_DEG & SEASON & FORECAST\\_DATETIME\\\\\n",
       " <chr> & <chr> & <dbl> & <dbl> & <dbl> & <dbl> & <dbl> & <dbl> & <dbl> & <dbl> & <chr> & <dbl>\\\\\n",
       "\\hline\n",
       "\t Seoul & Clear  & 10000 & 12.32 & 10.91 & 12.32 & 1015 & 50 & 2.18 & 248 & Spring & 1618574400\\\\\n",
       "\t Seoul & Clear  & 10000 & 11.48 &  9.81 & 11.48 & 1016 & 48 & 1.25 & 142 & Spring & 1618585200\\\\\n",
       "\t Seoul & Clouds & 10000 &  9.99 &  8.82 &  9.99 & 1015 & 46 & 0.94 & 130 & Spring & 1618596000\\\\\n",
       "\t Seoul & Clouds & 10000 &  7.87 &  7.87 &  7.87 & 1014 & 46 & 0.83 &  31 & Spring & 1618606800\\\\\n",
       "\t Seoul & Clouds & 10000 & 10.09 & 10.09 & 10.09 & 1014 & 37 & 1.96 & 309 & Spring & 1618617600\\\\\n",
       "\\end{tabular}\n"
      ],
      "text/markdown": [
       "\n",
       "A data.frame: 5 × 12\n",
       "\n",
       "| CITY &lt;chr&gt; | WEATHER &lt;chr&gt; | VISIBILITY &lt;dbl&gt; | TEMP &lt;dbl&gt; | TEMP_MIN &lt;dbl&gt; | TEMP_MAX &lt;dbl&gt; | PRESSURE &lt;dbl&gt; | HUMIDITY &lt;dbl&gt; | WIND_SPEED &lt;dbl&gt; | WIND_DEG &lt;dbl&gt; | SEASON &lt;chr&gt; | FORECAST_DATETIME &lt;dbl&gt; |\n",
       "|---|---|---|---|---|---|---|---|---|---|---|---|\n",
       "| Seoul | Clear  | 10000 | 12.32 | 10.91 | 12.32 | 1015 | 50 | 2.18 | 248 | Spring | 1618574400 |\n",
       "| Seoul | Clear  | 10000 | 11.48 |  9.81 | 11.48 | 1016 | 48 | 1.25 | 142 | Spring | 1618585200 |\n",
       "| Seoul | Clouds | 10000 |  9.99 |  8.82 |  9.99 | 1015 | 46 | 0.94 | 130 | Spring | 1618596000 |\n",
       "| Seoul | Clouds | 10000 |  7.87 |  7.87 |  7.87 | 1014 | 46 | 0.83 |  31 | Spring | 1618606800 |\n",
       "| Seoul | Clouds | 10000 | 10.09 | 10.09 | 10.09 | 1014 | 37 | 1.96 | 309 | Spring | 1618617600 |\n",
       "\n"
      ],
      "text/plain": [
       "  CITY  WEATHER VISIBILITY TEMP  TEMP_MIN TEMP_MAX PRESSURE HUMIDITY WIND_SPEED\n",
       "1 Seoul Clear   10000      12.32 10.91    12.32    1015     50       2.18      \n",
       "2 Seoul Clear   10000      11.48  9.81    11.48    1016     48       1.25      \n",
       "3 Seoul Clouds  10000       9.99  8.82     9.99    1015     46       0.94      \n",
       "4 Seoul Clouds  10000       7.87  7.87     7.87    1014     46       0.83      \n",
       "5 Seoul Clouds  10000      10.09 10.09    10.09    1014     37       1.96      \n",
       "  WIND_DEG SEASON FORECAST_DATETIME\n",
       "1 248      Spring 1618574400       \n",
       "2 142      Spring 1618585200       \n",
       "3 130      Spring 1618596000       \n",
       "4  31      Spring 1618606800       \n",
       "5 309      Spring 1618617600       "
      ]
     },
     "metadata": {},
     "output_type": "display_data"
    },
    {
     "data": {
      "text/html": [
       "<table class=\"dataframe\">\n",
       "<caption>A data.frame: 5 × 14</caption>\n",
       "<thead>\n",
       "\t<tr><th scope=col>DATE</th><th scope=col>RENTED_BIKE_COUNT</th><th scope=col>HOUR</th><th scope=col>TEMPERATURE</th><th scope=col>HUMIDITY</th><th scope=col>WIND_SPEED</th><th scope=col>VISIBILITY</th><th scope=col>DEW_POINT_TEMPERATURE</th><th scope=col>SOLAR_RADIATION</th><th scope=col>RAINFALL</th><th scope=col>SNOWFALL</th><th scope=col>SEASONS</th><th scope=col>HOLIDAY</th><th scope=col>FUNCTIONING_DAY</th></tr>\n",
       "\t<tr><th scope=col>&lt;chr&gt;</th><th scope=col>&lt;dbl&gt;</th><th scope=col>&lt;dbl&gt;</th><th scope=col>&lt;dbl&gt;</th><th scope=col>&lt;dbl&gt;</th><th scope=col>&lt;dbl&gt;</th><th scope=col>&lt;dbl&gt;</th><th scope=col>&lt;dbl&gt;</th><th scope=col>&lt;dbl&gt;</th><th scope=col>&lt;dbl&gt;</th><th scope=col>&lt;dbl&gt;</th><th scope=col>&lt;chr&gt;</th><th scope=col>&lt;chr&gt;</th><th scope=col>&lt;chr&gt;</th></tr>\n",
       "</thead>\n",
       "<tbody>\n",
       "\t<tr><td>01/12/2017</td><td>254</td><td>0</td><td>-5.2</td><td>37</td><td>2.2</td><td>2000</td><td>-17.6</td><td>0</td><td>0</td><td>0</td><td>Winter</td><td>No Holiday</td><td>Yes</td></tr>\n",
       "\t<tr><td>01/12/2017</td><td>204</td><td>1</td><td>-5.5</td><td>38</td><td>0.8</td><td>2000</td><td>-17.6</td><td>0</td><td>0</td><td>0</td><td>Winter</td><td>No Holiday</td><td>Yes</td></tr>\n",
       "\t<tr><td>01/12/2017</td><td>173</td><td>2</td><td>-6.0</td><td>39</td><td>1.0</td><td>2000</td><td>-17.7</td><td>0</td><td>0</td><td>0</td><td>Winter</td><td>No Holiday</td><td>Yes</td></tr>\n",
       "\t<tr><td>01/12/2017</td><td>107</td><td>3</td><td>-6.2</td><td>40</td><td>0.9</td><td>2000</td><td>-17.6</td><td>0</td><td>0</td><td>0</td><td>Winter</td><td>No Holiday</td><td>Yes</td></tr>\n",
       "\t<tr><td>01/12/2017</td><td> 78</td><td>4</td><td>-6.0</td><td>36</td><td>2.3</td><td>2000</td><td>-18.6</td><td>0</td><td>0</td><td>0</td><td>Winter</td><td>No Holiday</td><td>Yes</td></tr>\n",
       "</tbody>\n",
       "</table>\n"
      ],
      "text/latex": [
       "A data.frame: 5 × 14\n",
       "\\begin{tabular}{llllllllllllll}\n",
       " DATE & RENTED\\_BIKE\\_COUNT & HOUR & TEMPERATURE & HUMIDITY & WIND\\_SPEED & VISIBILITY & DEW\\_POINT\\_TEMPERATURE & SOLAR\\_RADIATION & RAINFALL & SNOWFALL & SEASONS & HOLIDAY & FUNCTIONING\\_DAY\\\\\n",
       " <chr> & <dbl> & <dbl> & <dbl> & <dbl> & <dbl> & <dbl> & <dbl> & <dbl> & <dbl> & <dbl> & <chr> & <chr> & <chr>\\\\\n",
       "\\hline\n",
       "\t 01/12/2017 & 254 & 0 & -5.2 & 37 & 2.2 & 2000 & -17.6 & 0 & 0 & 0 & Winter & No Holiday & Yes\\\\\n",
       "\t 01/12/2017 & 204 & 1 & -5.5 & 38 & 0.8 & 2000 & -17.6 & 0 & 0 & 0 & Winter & No Holiday & Yes\\\\\n",
       "\t 01/12/2017 & 173 & 2 & -6.0 & 39 & 1.0 & 2000 & -17.7 & 0 & 0 & 0 & Winter & No Holiday & Yes\\\\\n",
       "\t 01/12/2017 & 107 & 3 & -6.2 & 40 & 0.9 & 2000 & -17.6 & 0 & 0 & 0 & Winter & No Holiday & Yes\\\\\n",
       "\t 01/12/2017 &  78 & 4 & -6.0 & 36 & 2.3 & 2000 & -18.6 & 0 & 0 & 0 & Winter & No Holiday & Yes\\\\\n",
       "\\end{tabular}\n"
      ],
      "text/markdown": [
       "\n",
       "A data.frame: 5 × 14\n",
       "\n",
       "| DATE &lt;chr&gt; | RENTED_BIKE_COUNT &lt;dbl&gt; | HOUR &lt;dbl&gt; | TEMPERATURE &lt;dbl&gt; | HUMIDITY &lt;dbl&gt; | WIND_SPEED &lt;dbl&gt; | VISIBILITY &lt;dbl&gt; | DEW_POINT_TEMPERATURE &lt;dbl&gt; | SOLAR_RADIATION &lt;dbl&gt; | RAINFALL &lt;dbl&gt; | SNOWFALL &lt;dbl&gt; | SEASONS &lt;chr&gt; | HOLIDAY &lt;chr&gt; | FUNCTIONING_DAY &lt;chr&gt; |\n",
       "|---|---|---|---|---|---|---|---|---|---|---|---|---|---|\n",
       "| 01/12/2017 | 254 | 0 | -5.2 | 37 | 2.2 | 2000 | -17.6 | 0 | 0 | 0 | Winter | No Holiday | Yes |\n",
       "| 01/12/2017 | 204 | 1 | -5.5 | 38 | 0.8 | 2000 | -17.6 | 0 | 0 | 0 | Winter | No Holiday | Yes |\n",
       "| 01/12/2017 | 173 | 2 | -6.0 | 39 | 1.0 | 2000 | -17.7 | 0 | 0 | 0 | Winter | No Holiday | Yes |\n",
       "| 01/12/2017 | 107 | 3 | -6.2 | 40 | 0.9 | 2000 | -17.6 | 0 | 0 | 0 | Winter | No Holiday | Yes |\n",
       "| 01/12/2017 |  78 | 4 | -6.0 | 36 | 2.3 | 2000 | -18.6 | 0 | 0 | 0 | Winter | No Holiday | Yes |\n",
       "\n"
      ],
      "text/plain": [
       "  DATE       RENTED_BIKE_COUNT HOUR TEMPERATURE HUMIDITY WIND_SPEED VISIBILITY\n",
       "1 01/12/2017 254               0    -5.2        37       2.2        2000      \n",
       "2 01/12/2017 204               1    -5.5        38       0.8        2000      \n",
       "3 01/12/2017 173               2    -6.0        39       1.0        2000      \n",
       "4 01/12/2017 107               3    -6.2        40       0.9        2000      \n",
       "5 01/12/2017  78               4    -6.0        36       2.3        2000      \n",
       "  DEW_POINT_TEMPERATURE SOLAR_RADIATION RAINFALL SNOWFALL SEASONS HOLIDAY   \n",
       "1 -17.6                 0               0        0        Winter  No Holiday\n",
       "2 -17.6                 0               0        0        Winter  No Holiday\n",
       "3 -17.7                 0               0        0        Winter  No Holiday\n",
       "4 -17.6                 0               0        0        Winter  No Holiday\n",
       "5 -18.6                 0               0        0        Winter  No Holiday\n",
       "  FUNCTIONING_DAY\n",
       "1 Yes            \n",
       "2 Yes            \n",
       "3 Yes            \n",
       "4 Yes            \n",
       "5 Yes            "
      ]
     },
     "metadata": {},
     "output_type": "display_data"
    }
   ],
   "source": [
    "dbGetQuery(con, \"SELECT * FROM WORLD_CITIES LIMIT 5\")\n",
    "dbGetQuery(con, \"SELECT * FROM BIKE_SHARING_SYSTEMS LIMIT 5\")\n",
    "dbGetQuery(con, \"SELECT * FROM CITIES_WEATHER_FORECAST LIMIT 5\")\n",
    "dbGetQuery(con, \"SELECT * FROM SEOUL_BIKE_SHARING LIMIT 5\")\n",
    "\n"
   ]
  },
  {
   "cell_type": "code",
   "execution_count": 19,
   "metadata": {},
   "outputs": [
    {
     "name": "stderr",
     "output_type": "stream",
     "text": [
      "\u001b[1mRows: \u001b[22m\u001b[34m26569\u001b[39m \u001b[1mColumns: \u001b[22m\u001b[34m11\u001b[39m\n",
      "\u001b[36m──\u001b[39m \u001b[1mColumn specification\u001b[22m \u001b[36m────────────────────────────────────────────────────────\u001b[39m\n",
      "\u001b[1mDelimiter:\u001b[22m \",\"\n",
      "\u001b[31mchr\u001b[39m (7): CITY, CITY_ASCII, COUNTRY, ISO2, ISO3, ADMIN_NAME, CAPITAL\n",
      "\u001b[32mdbl\u001b[39m (4): LAT, LNG, POPULATION, ID\n",
      "\n",
      "\u001b[36mℹ\u001b[39m Use `spec()` to retrieve the full column specification for this data.\n",
      "\u001b[36mℹ\u001b[39m Specify the column types or set `show_col_types = FALSE` to quiet this message.\n",
      "\u001b[1mRows: \u001b[22m\u001b[34m480\u001b[39m \u001b[1mColumns: \u001b[22m\u001b[34m4\u001b[39m\n",
      "\u001b[36m──\u001b[39m \u001b[1mColumn specification\u001b[22m \u001b[36m────────────────────────────────────────────────────────\u001b[39m\n",
      "\u001b[1mDelimiter:\u001b[22m \",\"\n",
      "\u001b[31mchr\u001b[39m (3): COUNTRY, CITY, SYSTEM\n",
      "\u001b[32mdbl\u001b[39m (1): BICYCLES\n",
      "\n",
      "\u001b[36mℹ\u001b[39m Use `spec()` to retrieve the full column specification for this data.\n",
      "\u001b[36mℹ\u001b[39m Specify the column types or set `show_col_types = FALSE` to quiet this message.\n",
      "\u001b[1mRows: \u001b[22m\u001b[34m160\u001b[39m \u001b[1mColumns: \u001b[22m\u001b[34m12\u001b[39m\n",
      "\u001b[36m──\u001b[39m \u001b[1mColumn specification\u001b[22m \u001b[36m────────────────────────────────────────────────────────\u001b[39m\n",
      "\u001b[1mDelimiter:\u001b[22m \",\"\n",
      "\u001b[31mchr\u001b[39m  (3): CITY, WEATHER, SEASON\n",
      "\u001b[32mdbl\u001b[39m  (8): VISIBILITY, TEMP, TEMP_MIN, TEMP_MAX, PRESSURE, HUMIDITY, WIND_SPE...\n",
      "\u001b[34mdttm\u001b[39m (1): FORECAST_DATETIME\n",
      "\n",
      "\u001b[36mℹ\u001b[39m Use `spec()` to retrieve the full column specification for this data.\n",
      "\u001b[36mℹ\u001b[39m Specify the column types or set `show_col_types = FALSE` to quiet this message.\n",
      "\u001b[1mRows: \u001b[22m\u001b[34m8465\u001b[39m \u001b[1mColumns: \u001b[22m\u001b[34m14\u001b[39m\n",
      "\u001b[36m──\u001b[39m \u001b[1mColumn specification\u001b[22m \u001b[36m────────────────────────────────────────────────────────\u001b[39m\n",
      "\u001b[1mDelimiter:\u001b[22m \",\"\n",
      "\u001b[31mchr\u001b[39m  (4): DATE, SEASONS, HOLIDAY, FUNCTIONING_DAY\n",
      "\u001b[32mdbl\u001b[39m (10): RENTED_BIKE_COUNT, HOUR, TEMPERATURE, HUMIDITY, WIND_SPEED, VISIBI...\n",
      "\n",
      "\u001b[36mℹ\u001b[39m Use `spec()` to retrieve the full column specification for this data.\n",
      "\u001b[36mℹ\u001b[39m Specify the column types or set `show_col_types = FALSE` to quiet this message.\n"
     ]
    }
   ],
   "source": [
    "world_cities <- read_csv(\"world_cities.csv\")\n",
    "dbWriteTable(con, \"WORLD_CITIES\", world_cities)\n",
    "\n",
    "bike_sharing <- read_csv(\"bike_sharing_systems.csv\")\n",
    "dbWriteTable(con, \"BIKE_SHARING_SYSTEMS\", bike_sharing)\n",
    "\n",
    "cities_weather <- read_csv(\"cities_weather_forecast.csv\")\n",
    "dbWriteTable(con, \"CITIES_WEATHER_FORECAST\", cities_weather)\n",
    "\n",
    "seoul_bike <- read_csv(\"seoul_bike_sharing.csv\")\n",
    "dbWriteTable(con, \"SEOUL_BIKE_SHARING\", seoul_bike)\n"
   ]
  },
  {
   "cell_type": "code",
   "execution_count": 18,
   "metadata": {},
   "outputs": [],
   "source": [
    "con <- dbConnect(RSQLite::SQLite(), \"mi_base_de_datos.sqlite\")"
   ]
  },
  {
   "cell_type": "markdown",
   "metadata": {},
   "source": [
    "Download the following csv files:\n",
    "\n",
    "*   [WORLD_CITIES](https://cf-courses-data.s3.us.cloud-object-storage.appdomain.cloud/IBMDeveloperSkillsNetwork-RP0321EN-SkillsNetwork/labs/datasets/world_cities.csv)\n",
    "\n",
    "*   [BIKE_SHARING_SYSTEMS](https://cf-courses-data.s3.us.cloud-object-storage.appdomain.cloud/IBMDeveloperSkillsNetwork-RP0321EN-SkillsNetwork/labs/datasets/bike_sharing_systems.csv)\n",
    "\n",
    "*   [CITIES_WEATHER_FORECAST](https://cf-courses-data.s3.us.cloud-object-storage.appdomain.cloud/IBMDeveloperSkillsNetwork-RP0321EN-SkillsNetwork/labs/datasets/cities_weather_forecast.csv)\n",
    "\n",
    "*   [SEOUL_BIKE_SHARING](https://cf-courses-data.s3.us.cloud-object-storage.appdomain.cloud/IBMDeveloperSkillsNetwork-RP0321EN-SkillsNetwork/labs/datasets/seoul_bike_sharing.csv)\n",
    "\n",
    "and load the csv's  into 4 tables as mentioned below\n",
    "* SEOUL_BIKE_SHARING\n",
    "\n",
    "* CITIES_WEATHER_FORECAST\n",
    "\n",
    "* BIKE_SHARING_SYSTEMS \n",
    "\n",
    "*  WORLD_CITIES\n",
    "\n",
    "> Hint : Use the read_csv() function and dbWriteTable() functions\n"
   ]
  },
  {
   "cell_type": "markdown",
   "metadata": {},
   "source": [
    "\n",
    "## Task 1 - Record Count\n",
    "#### Determine how many records are in the seoul_bike_sharing dataset.\n"
   ]
  },
  {
   "cell_type": "markdown",
   "metadata": {},
   "source": [
    "### Solution 1\n"
   ]
  },
  {
   "cell_type": "code",
   "execution_count": 22,
   "metadata": {},
   "outputs": [
    {
     "data": {
      "text/html": [
       "<table class=\"dataframe\">\n",
       "<caption>A data.frame: 1 × 1</caption>\n",
       "<thead>\n",
       "\t<tr><th scope=col>total_registros</th></tr>\n",
       "\t<tr><th scope=col>&lt;int&gt;</th></tr>\n",
       "</thead>\n",
       "<tbody>\n",
       "\t<tr><td>8465</td></tr>\n",
       "</tbody>\n",
       "</table>\n"
      ],
      "text/latex": [
       "A data.frame: 1 × 1\n",
       "\\begin{tabular}{l}\n",
       " total\\_registros\\\\\n",
       " <int>\\\\\n",
       "\\hline\n",
       "\t 8465\\\\\n",
       "\\end{tabular}\n"
      ],
      "text/markdown": [
       "\n",
       "A data.frame: 1 × 1\n",
       "\n",
       "| total_registros &lt;int&gt; |\n",
       "|---|\n",
       "| 8465 |\n",
       "\n"
      ],
      "text/plain": [
       "  total_registros\n",
       "1 8465           "
      ]
     },
     "metadata": {},
     "output_type": "display_data"
    }
   ],
   "source": [
    "dbGetQuery(con, \"SELECT COUNT(*) AS total_registros FROM SEOUL_BIKE_SHARING\")\n"
   ]
  },
  {
   "cell_type": "markdown",
   "metadata": {},
   "source": [
    "## Task 2 - Operational Hours\n",
    "#### Determine how many hours had non-zero rented bike count.\n"
   ]
  },
  {
   "cell_type": "markdown",
   "metadata": {},
   "source": [
    "### Solution 2\n"
   ]
  },
  {
   "cell_type": "code",
   "execution_count": 23,
   "metadata": {},
   "outputs": [
    {
     "data": {
      "text/html": [
       "<table class=\"dataframe\">\n",
       "<caption>A data.frame: 1 × 1</caption>\n",
       "<thead>\n",
       "\t<tr><th scope=col>horas_funcionamiento</th></tr>\n",
       "\t<tr><th scope=col>&lt;int&gt;</th></tr>\n",
       "</thead>\n",
       "<tbody>\n",
       "\t<tr><td>24</td></tr>\n",
       "</tbody>\n",
       "</table>\n"
      ],
      "text/latex": [
       "A data.frame: 1 × 1\n",
       "\\begin{tabular}{l}\n",
       " horas\\_funcionamiento\\\\\n",
       " <int>\\\\\n",
       "\\hline\n",
       "\t 24\\\\\n",
       "\\end{tabular}\n"
      ],
      "text/markdown": [
       "\n",
       "A data.frame: 1 × 1\n",
       "\n",
       "| horas_funcionamiento &lt;int&gt; |\n",
       "|---|\n",
       "| 24 |\n",
       "\n"
      ],
      "text/plain": [
       "  horas_funcionamiento\n",
       "1 24                  "
      ]
     },
     "metadata": {},
     "output_type": "display_data"
    }
   ],
   "source": [
    "dbGetQuery(con, \"SELECT COUNT(DISTINCT HOUR) AS horas_funcionamiento FROM SEOUL_BIKE_SHARING WHERE RENTED_BIKE_COUNT > 0\")\n"
   ]
  },
  {
   "cell_type": "markdown",
   "metadata": {},
   "source": [
    "## Task 3 - Weather Outlook\n",
    "#### Query the the weather forecast for Seoul over the next 3 hours.\n",
    "Recall that the records in the CITIES_WEATHER_FORECAST dataset are 3 hours apart, so we just need the first record from the query.\n"
   ]
  },
  {
   "cell_type": "markdown",
   "metadata": {},
   "source": [
    "### Solution 3\n"
   ]
  },
  {
   "cell_type": "code",
   "execution_count": 24,
   "metadata": {},
   "outputs": [
    {
     "data": {
      "text/html": [
       "<table class=\"dataframe\">\n",
       "<caption>A data.frame: 1 × 12</caption>\n",
       "<thead>\n",
       "\t<tr><th scope=col>CITY</th><th scope=col>WEATHER</th><th scope=col>VISIBILITY</th><th scope=col>TEMP</th><th scope=col>TEMP_MIN</th><th scope=col>TEMP_MAX</th><th scope=col>PRESSURE</th><th scope=col>HUMIDITY</th><th scope=col>WIND_SPEED</th><th scope=col>WIND_DEG</th><th scope=col>SEASON</th><th scope=col>FORECAST_DATETIME</th></tr>\n",
       "\t<tr><th scope=col>&lt;chr&gt;</th><th scope=col>&lt;chr&gt;</th><th scope=col>&lt;dbl&gt;</th><th scope=col>&lt;dbl&gt;</th><th scope=col>&lt;dbl&gt;</th><th scope=col>&lt;dbl&gt;</th><th scope=col>&lt;dbl&gt;</th><th scope=col>&lt;dbl&gt;</th><th scope=col>&lt;dbl&gt;</th><th scope=col>&lt;dbl&gt;</th><th scope=col>&lt;chr&gt;</th><th scope=col>&lt;dbl&gt;</th></tr>\n",
       "</thead>\n",
       "<tbody>\n",
       "\t<tr><td>Seoul</td><td>Clear</td><td>10000</td><td>12.32</td><td>10.91</td><td>12.32</td><td>1015</td><td>50</td><td>2.18</td><td>248</td><td>Spring</td><td>1618574400</td></tr>\n",
       "</tbody>\n",
       "</table>\n"
      ],
      "text/latex": [
       "A data.frame: 1 × 12\n",
       "\\begin{tabular}{llllllllllll}\n",
       " CITY & WEATHER & VISIBILITY & TEMP & TEMP\\_MIN & TEMP\\_MAX & PRESSURE & HUMIDITY & WIND\\_SPEED & WIND\\_DEG & SEASON & FORECAST\\_DATETIME\\\\\n",
       " <chr> & <chr> & <dbl> & <dbl> & <dbl> & <dbl> & <dbl> & <dbl> & <dbl> & <dbl> & <chr> & <dbl>\\\\\n",
       "\\hline\n",
       "\t Seoul & Clear & 10000 & 12.32 & 10.91 & 12.32 & 1015 & 50 & 2.18 & 248 & Spring & 1618574400\\\\\n",
       "\\end{tabular}\n"
      ],
      "text/markdown": [
       "\n",
       "A data.frame: 1 × 12\n",
       "\n",
       "| CITY &lt;chr&gt; | WEATHER &lt;chr&gt; | VISIBILITY &lt;dbl&gt; | TEMP &lt;dbl&gt; | TEMP_MIN &lt;dbl&gt; | TEMP_MAX &lt;dbl&gt; | PRESSURE &lt;dbl&gt; | HUMIDITY &lt;dbl&gt; | WIND_SPEED &lt;dbl&gt; | WIND_DEG &lt;dbl&gt; | SEASON &lt;chr&gt; | FORECAST_DATETIME &lt;dbl&gt; |\n",
       "|---|---|---|---|---|---|---|---|---|---|---|---|\n",
       "| Seoul | Clear | 10000 | 12.32 | 10.91 | 12.32 | 1015 | 50 | 2.18 | 248 | Spring | 1618574400 |\n",
       "\n"
      ],
      "text/plain": [
       "  CITY  WEATHER VISIBILITY TEMP  TEMP_MIN TEMP_MAX PRESSURE HUMIDITY WIND_SPEED\n",
       "1 Seoul Clear   10000      12.32 10.91    12.32    1015     50       2.18      \n",
       "  WIND_DEG SEASON FORECAST_DATETIME\n",
       "1 248      Spring 1618574400       "
      ]
     },
     "metadata": {},
     "output_type": "display_data"
    }
   ],
   "source": [
    "dbGetQuery(con, \"SELECT * FROM CITIES_WEATHER_FORECAST WHERE CITY = 'Seoul' ORDER BY FORECAST_DATETIME LIMIT 1\")\n"
   ]
  },
  {
   "cell_type": "markdown",
   "metadata": {},
   "source": [
    "## Task 4 - Seasons\n",
    "#### Find which seasons are included in the seoul bike sharing dataset.\n"
   ]
  },
  {
   "cell_type": "markdown",
   "metadata": {},
   "source": [
    "### Solution 4\n"
   ]
  },
  {
   "cell_type": "code",
   "execution_count": 25,
   "metadata": {},
   "outputs": [
    {
     "data": {
      "text/html": [
       "<table class=\"dataframe\">\n",
       "<caption>A data.frame: 4 × 1</caption>\n",
       "<thead>\n",
       "\t<tr><th scope=col>SEASONS</th></tr>\n",
       "\t<tr><th scope=col>&lt;chr&gt;</th></tr>\n",
       "</thead>\n",
       "<tbody>\n",
       "\t<tr><td>Winter</td></tr>\n",
       "\t<tr><td>Spring</td></tr>\n",
       "\t<tr><td>Summer</td></tr>\n",
       "\t<tr><td>Autumn</td></tr>\n",
       "</tbody>\n",
       "</table>\n"
      ],
      "text/latex": [
       "A data.frame: 4 × 1\n",
       "\\begin{tabular}{l}\n",
       " SEASONS\\\\\n",
       " <chr>\\\\\n",
       "\\hline\n",
       "\t Winter\\\\\n",
       "\t Spring\\\\\n",
       "\t Summer\\\\\n",
       "\t Autumn\\\\\n",
       "\\end{tabular}\n"
      ],
      "text/markdown": [
       "\n",
       "A data.frame: 4 × 1\n",
       "\n",
       "| SEASONS &lt;chr&gt; |\n",
       "|---|\n",
       "| Winter |\n",
       "| Spring |\n",
       "| Summer |\n",
       "| Autumn |\n",
       "\n"
      ],
      "text/plain": [
       "  SEASONS\n",
       "1 Winter \n",
       "2 Spring \n",
       "3 Summer \n",
       "4 Autumn "
      ]
     },
     "metadata": {},
     "output_type": "display_data"
    }
   ],
   "source": [
    "dbGetQuery(con, \"SELECT DISTINCT SEASONS FROM SEOUL_BIKE_SHARING\")\n",
    "\n"
   ]
  },
  {
   "cell_type": "markdown",
   "metadata": {},
   "source": [
    "## Task 5 - Date Range\n",
    "#### Find the first and last dates in the Seoul Bike Sharing dataset.\n"
   ]
  },
  {
   "cell_type": "markdown",
   "metadata": {},
   "source": [
    "### Solution 5\n"
   ]
  },
  {
   "cell_type": "code",
   "execution_count": 26,
   "metadata": {},
   "outputs": [
    {
     "data": {
      "text/html": [
       "<table class=\"dataframe\">\n",
       "<caption>A data.frame: 1 × 2</caption>\n",
       "<thead>\n",
       "\t<tr><th scope=col>primera_fecha</th><th scope=col>ultima_fecha</th></tr>\n",
       "\t<tr><th scope=col>&lt;chr&gt;</th><th scope=col>&lt;chr&gt;</th></tr>\n",
       "</thead>\n",
       "<tbody>\n",
       "\t<tr><td>01/01/2018</td><td>31/12/2017</td></tr>\n",
       "</tbody>\n",
       "</table>\n"
      ],
      "text/latex": [
       "A data.frame: 1 × 2\n",
       "\\begin{tabular}{ll}\n",
       " primera\\_fecha & ultima\\_fecha\\\\\n",
       " <chr> & <chr>\\\\\n",
       "\\hline\n",
       "\t 01/01/2018 & 31/12/2017\\\\\n",
       "\\end{tabular}\n"
      ],
      "text/markdown": [
       "\n",
       "A data.frame: 1 × 2\n",
       "\n",
       "| primera_fecha &lt;chr&gt; | ultima_fecha &lt;chr&gt; |\n",
       "|---|---|\n",
       "| 01/01/2018 | 31/12/2017 |\n",
       "\n"
      ],
      "text/plain": [
       "  primera_fecha ultima_fecha\n",
       "1 01/01/2018    31/12/2017  "
      ]
     },
     "metadata": {},
     "output_type": "display_data"
    }
   ],
   "source": [
    "dbGetQuery(con, \"SELECT MIN(DATE) AS primera_fecha, MAX(DATE) AS ultima_fecha FROM SEOUL_BIKE_SHARING\")\n"
   ]
  },
  {
   "cell_type": "markdown",
   "metadata": {},
   "source": [
    "## Task 6 - Subquery - 'all-time high'\n",
    "#### determine which date and hour had the most bike rentals.\n"
   ]
  },
  {
   "cell_type": "markdown",
   "metadata": {},
   "source": [
    "### Solution 6\n"
   ]
  },
  {
   "cell_type": "code",
   "execution_count": 27,
   "metadata": {},
   "outputs": [
    {
     "data": {
      "text/html": [
       "<table class=\"dataframe\">\n",
       "<caption>A data.frame: 1 × 3</caption>\n",
       "<thead>\n",
       "\t<tr><th scope=col>DATE</th><th scope=col>HOUR</th><th scope=col>RENTED_BIKE_COUNT</th></tr>\n",
       "\t<tr><th scope=col>&lt;chr&gt;</th><th scope=col>&lt;dbl&gt;</th><th scope=col>&lt;dbl&gt;</th></tr>\n",
       "</thead>\n",
       "<tbody>\n",
       "\t<tr><td>19/06/2018</td><td>18</td><td>3556</td></tr>\n",
       "</tbody>\n",
       "</table>\n"
      ],
      "text/latex": [
       "A data.frame: 1 × 3\n",
       "\\begin{tabular}{lll}\n",
       " DATE & HOUR & RENTED\\_BIKE\\_COUNT\\\\\n",
       " <chr> & <dbl> & <dbl>\\\\\n",
       "\\hline\n",
       "\t 19/06/2018 & 18 & 3556\\\\\n",
       "\\end{tabular}\n"
      ],
      "text/markdown": [
       "\n",
       "A data.frame: 1 × 3\n",
       "\n",
       "| DATE &lt;chr&gt; | HOUR &lt;dbl&gt; | RENTED_BIKE_COUNT &lt;dbl&gt; |\n",
       "|---|---|---|\n",
       "| 19/06/2018 | 18 | 3556 |\n",
       "\n"
      ],
      "text/plain": [
       "  DATE       HOUR RENTED_BIKE_COUNT\n",
       "1 19/06/2018 18   3556             "
      ]
     },
     "metadata": {},
     "output_type": "display_data"
    }
   ],
   "source": [
    "dbGetQuery(con, \"SELECT DATE, HOUR, RENTED_BIKE_COUNT FROM SEOUL_BIKE_SHARING WHERE RENTED_BIKE_COUNT = (SELECT MAX(RENTED_BIKE_COUNT) FROM SEOUL_BIKE_SHARING)\")\n"
   ]
  },
  {
   "cell_type": "markdown",
   "metadata": {},
   "source": [
    "## Task 7 - Hourly popularity and temperature by season\n",
    "#### Determine the average hourly temperature and the average number of bike rentals per hour over each season. List the top ten results by average bike count.\n"
   ]
  },
  {
   "cell_type": "markdown",
   "metadata": {},
   "source": [
    "### Solution 7\n"
   ]
  },
  {
   "cell_type": "code",
   "execution_count": 28,
   "metadata": {},
   "outputs": [
    {
     "data": {
      "text/html": [
       "<table class=\"dataframe\">\n",
       "<caption>A data.frame: 10 × 4</caption>\n",
       "<thead>\n",
       "\t<tr><th scope=col>SEASONS</th><th scope=col>HOUR</th><th scope=col>temperatura_promedio</th><th scope=col>alquileres_promedio</th></tr>\n",
       "\t<tr><th scope=col>&lt;chr&gt;</th><th scope=col>&lt;dbl&gt;</th><th scope=col>&lt;dbl&gt;</th><th scope=col>&lt;dbl&gt;</th></tr>\n",
       "</thead>\n",
       "<tbody>\n",
       "\t<tr><td>Summer</td><td>18</td><td>29.38791</td><td>2135.141</td></tr>\n",
       "\t<tr><td>Autumn</td><td>18</td><td>16.03185</td><td>1983.333</td></tr>\n",
       "\t<tr><td>Summer</td><td>19</td><td>28.27378</td><td>1889.250</td></tr>\n",
       "\t<tr><td>Summer</td><td>20</td><td>27.06630</td><td>1801.924</td></tr>\n",
       "\t<tr><td>Summer</td><td>21</td><td>26.27826</td><td>1754.065</td></tr>\n",
       "\t<tr><td>Spring</td><td>18</td><td>15.97222</td><td>1689.311</td></tr>\n",
       "\t<tr><td>Summer</td><td>22</td><td>25.69891</td><td>1567.870</td></tr>\n",
       "\t<tr><td>Autumn</td><td>17</td><td>17.27778</td><td>1562.877</td></tr>\n",
       "\t<tr><td>Summer</td><td>17</td><td>30.07691</td><td>1526.293</td></tr>\n",
       "\t<tr><td>Autumn</td><td>19</td><td>15.06346</td><td>1515.568</td></tr>\n",
       "</tbody>\n",
       "</table>\n"
      ],
      "text/latex": [
       "A data.frame: 10 × 4\n",
       "\\begin{tabular}{llll}\n",
       " SEASONS & HOUR & temperatura\\_promedio & alquileres\\_promedio\\\\\n",
       " <chr> & <dbl> & <dbl> & <dbl>\\\\\n",
       "\\hline\n",
       "\t Summer & 18 & 29.38791 & 2135.141\\\\\n",
       "\t Autumn & 18 & 16.03185 & 1983.333\\\\\n",
       "\t Summer & 19 & 28.27378 & 1889.250\\\\\n",
       "\t Summer & 20 & 27.06630 & 1801.924\\\\\n",
       "\t Summer & 21 & 26.27826 & 1754.065\\\\\n",
       "\t Spring & 18 & 15.97222 & 1689.311\\\\\n",
       "\t Summer & 22 & 25.69891 & 1567.870\\\\\n",
       "\t Autumn & 17 & 17.27778 & 1562.877\\\\\n",
       "\t Summer & 17 & 30.07691 & 1526.293\\\\\n",
       "\t Autumn & 19 & 15.06346 & 1515.568\\\\\n",
       "\\end{tabular}\n"
      ],
      "text/markdown": [
       "\n",
       "A data.frame: 10 × 4\n",
       "\n",
       "| SEASONS &lt;chr&gt; | HOUR &lt;dbl&gt; | temperatura_promedio &lt;dbl&gt; | alquileres_promedio &lt;dbl&gt; |\n",
       "|---|---|---|---|\n",
       "| Summer | 18 | 29.38791 | 2135.141 |\n",
       "| Autumn | 18 | 16.03185 | 1983.333 |\n",
       "| Summer | 19 | 28.27378 | 1889.250 |\n",
       "| Summer | 20 | 27.06630 | 1801.924 |\n",
       "| Summer | 21 | 26.27826 | 1754.065 |\n",
       "| Spring | 18 | 15.97222 | 1689.311 |\n",
       "| Summer | 22 | 25.69891 | 1567.870 |\n",
       "| Autumn | 17 | 17.27778 | 1562.877 |\n",
       "| Summer | 17 | 30.07691 | 1526.293 |\n",
       "| Autumn | 19 | 15.06346 | 1515.568 |\n",
       "\n"
      ],
      "text/plain": [
       "   SEASONS HOUR temperatura_promedio alquileres_promedio\n",
       "1  Summer  18   29.38791             2135.141           \n",
       "2  Autumn  18   16.03185             1983.333           \n",
       "3  Summer  19   28.27378             1889.250           \n",
       "4  Summer  20   27.06630             1801.924           \n",
       "5  Summer  21   26.27826             1754.065           \n",
       "6  Spring  18   15.97222             1689.311           \n",
       "7  Summer  22   25.69891             1567.870           \n",
       "8  Autumn  17   17.27778             1562.877           \n",
       "9  Summer  17   30.07691             1526.293           \n",
       "10 Autumn  19   15.06346             1515.568           "
      ]
     },
     "metadata": {},
     "output_type": "display_data"
    }
   ],
   "source": [
    "dbGetQuery(con, \"\n",
    "    SELECT SEASONS, HOUR, \n",
    "           AVG(TEMPERATURE) AS temperatura_promedio, \n",
    "           AVG(RENTED_BIKE_COUNT) AS alquileres_promedio\n",
    "    FROM SEOUL_BIKE_SHARING\n",
    "    GROUP BY SEASONS, HOUR\n",
    "    ORDER BY alquileres_promedio DESC\n",
    "    LIMIT 10\n",
    "\")\n"
   ]
  },
  {
   "cell_type": "markdown",
   "metadata": {},
   "source": [
    "## Task 8 - Rental Seasonality\n",
    "#### Find the average hourly bike count during each season. \n",
    "Also include the minimum, maximum, and standard deviation of the hourly bike count for each season. \n",
    "\n",
    "> Hint : Use the SQRT(AVG(col*col) - AVG(col)*AVG(col) ) function where col refers to your column name for finding the standard deviation\n"
   ]
  },
  {
   "cell_type": "markdown",
   "metadata": {},
   "source": [
    "### Solution 8\n"
   ]
  },
  {
   "cell_type": "code",
   "execution_count": 29,
   "metadata": {},
   "outputs": [
    {
     "data": {
      "text/html": [
       "<table class=\"dataframe\">\n",
       "<caption>A data.frame: 4 × 5</caption>\n",
       "<thead>\n",
       "\t<tr><th scope=col>SEASONS</th><th scope=col>promedio_alquileres</th><th scope=col>minimo_alquileres</th><th scope=col>maximo_alquileres</th><th scope=col>desviacion_estandar</th></tr>\n",
       "\t<tr><th scope=col>&lt;chr&gt;</th><th scope=col>&lt;dbl&gt;</th><th scope=col>&lt;dbl&gt;</th><th scope=col>&lt;dbl&gt;</th><th scope=col>&lt;dbl&gt;</th></tr>\n",
       "</thead>\n",
       "<tbody>\n",
       "\t<tr><td>Summer</td><td>1034.0734</td><td>9</td><td>3556</td><td>690.0884</td></tr>\n",
       "\t<tr><td>Autumn</td><td> 924.1105</td><td>2</td><td>3298</td><td>617.3885</td></tr>\n",
       "\t<tr><td>Spring</td><td> 746.2542</td><td>2</td><td>3251</td><td>618.5247</td></tr>\n",
       "\t<tr><td>Winter</td><td> 225.5412</td><td>3</td><td> 937</td><td>150.3374</td></tr>\n",
       "</tbody>\n",
       "</table>\n"
      ],
      "text/latex": [
       "A data.frame: 4 × 5\n",
       "\\begin{tabular}{lllll}\n",
       " SEASONS & promedio\\_alquileres & minimo\\_alquileres & maximo\\_alquileres & desviacion\\_estandar\\\\\n",
       " <chr> & <dbl> & <dbl> & <dbl> & <dbl>\\\\\n",
       "\\hline\n",
       "\t Summer & 1034.0734 & 9 & 3556 & 690.0884\\\\\n",
       "\t Autumn &  924.1105 & 2 & 3298 & 617.3885\\\\\n",
       "\t Spring &  746.2542 & 2 & 3251 & 618.5247\\\\\n",
       "\t Winter &  225.5412 & 3 &  937 & 150.3374\\\\\n",
       "\\end{tabular}\n"
      ],
      "text/markdown": [
       "\n",
       "A data.frame: 4 × 5\n",
       "\n",
       "| SEASONS &lt;chr&gt; | promedio_alquileres &lt;dbl&gt; | minimo_alquileres &lt;dbl&gt; | maximo_alquileres &lt;dbl&gt; | desviacion_estandar &lt;dbl&gt; |\n",
       "|---|---|---|---|---|\n",
       "| Summer | 1034.0734 | 9 | 3556 | 690.0884 |\n",
       "| Autumn |  924.1105 | 2 | 3298 | 617.3885 |\n",
       "| Spring |  746.2542 | 2 | 3251 | 618.5247 |\n",
       "| Winter |  225.5412 | 3 |  937 | 150.3374 |\n",
       "\n"
      ],
      "text/plain": [
       "  SEASONS promedio_alquileres minimo_alquileres maximo_alquileres\n",
       "1 Summer  1034.0734           9                 3556             \n",
       "2 Autumn   924.1105           2                 3298             \n",
       "3 Spring   746.2542           2                 3251             \n",
       "4 Winter   225.5412           3                  937             \n",
       "  desviacion_estandar\n",
       "1 690.0884           \n",
       "2 617.3885           \n",
       "3 618.5247           \n",
       "4 150.3374           "
      ]
     },
     "metadata": {},
     "output_type": "display_data"
    }
   ],
   "source": [
    "dbGetQuery(con, \"\n",
    "    SELECT SEASONS, \n",
    "           AVG(RENTED_BIKE_COUNT) AS promedio_alquileres, \n",
    "           MIN(RENTED_BIKE_COUNT) AS minimo_alquileres, \n",
    "           MAX(RENTED_BIKE_COUNT) AS maximo_alquileres, \n",
    "           SQRT(AVG(RENTED_BIKE_COUNT * RENTED_BIKE_COUNT) - AVG(RENTED_BIKE_COUNT) * AVG(RENTED_BIKE_COUNT)) AS desviacion_estandar\n",
    "    FROM SEOUL_BIKE_SHARING\n",
    "    GROUP BY SEASONS\n",
    "    ORDER BY promedio_alquileres DESC\n",
    "\")\n"
   ]
  },
  {
   "cell_type": "markdown",
   "metadata": {},
   "source": [
    "Let's explore a bit and see what might be the most significant contributing factors in terms of the provided data.\n"
   ]
  },
  {
   "cell_type": "markdown",
   "metadata": {},
   "source": [
    "## Task 9 - Weather Seasonality\n",
    "#### Consider the weather over each season. On average, what were the TEMPERATURE, HUMIDITY, WIND_SPEED, VISIBILITY, DEW_POINT_TEMPERATURE, SOLAR_RADIATION, RAINFALL, and SNOWFALL per season?\n",
    "Include the average bike count as well , and rank the results by average bike count so you can see if it is correlated with the weather at all. \n"
   ]
  },
  {
   "cell_type": "markdown",
   "metadata": {},
   "source": [
    "### Solution 9\n"
   ]
  },
  {
   "cell_type": "code",
   "execution_count": 9,
   "metadata": {},
   "outputs": [
    {
     "ename": "ERROR",
     "evalue": "Error in parse(text = input): <text>:1:12: unexpected string constant\n20: ORDER BY avg_bike_count DESC;\n21: \"\n               ^\n",
     "output_type": "error",
     "traceback": [
      "Error in parse(text = input): <text>:1:12: unexpected string constant\n20: ORDER BY avg_bike_count DESC;\n21: \"\n               ^\nTraceback:\n"
     ]
    }
   ],
   "source": [
    "query <- \"\"\"\n",
    "SELECT \n",
    "    CASE \n",
    "        WHEN SUBSTR(FECHA, 4, 2) IN ('12', '01', '02') THEN 'Invierno'\n",
    "        WHEN SUBSTR(FECHA, 4, 2) IN ('03', '04', '05') THEN 'Primavera'\n",
    "        WHEN SUBSTR(FECHA, 4, 2) IN ('06', '07', '08') THEN 'Verano'\n",
    "        WHEN SUBSTR(FECHA, 4, 2) IN ('09', '10', '11') THEN 'Otonio'\n",
    "    END AS season,\n",
    "    ROUND(AVG(TEMPERATURA), 2) AS avg_temperature,\n",
    "    ROUND(AVG(HUMEDAD), 2) AS avg_humidity,\n",
    "    ROUND(AVG(WIND_SPEED), 2) AS avg_wind_speed,\n",
    "    ROUND(AVG(VISIBILIDAD), 2) AS avg_visibility,\n",
    "    ROUND(AVG(DEW_POINT_TEMPERATURE), 2) AS avg_dew_point_temp,\n",
    "    ROUND(AVG(SOLAR_RADIATION), 2) AS avg_solar_radiation,\n",
    "    ROUND(AVG(PRECIPITACIÓN), 2) AS avg_precipitation,\n",
    "    ROUND(AVG(NEVADA), 2) AS avg_snowfall,\n",
    "    ROUND(AVG(RENTED_BIKE_COUNT), 2) AS avg_bike_count\n",
    "FROM SEOUL_BIKE_SHARING\n",
    "GROUP BY season\n",
    "ORDER BY avg_bike_count DESC;\n",
    "\"\"\"Lab-SQL-EDA_SQlite.ipynb\n",
    "\n",
    "dbGetQuery(con, query)\n",
    "\n",
    "\n"
   ]
  },
  {
   "cell_type": "markdown",
   "metadata": {},
   "source": [
    "## Task 10 - Total Bike Count and City Info for Seoul\n",
    "#### Use an implicit join across the WORLD_CITIES and the BIKE_SHARING_SYSTEMS tables to determine the total number of bikes avaialble in Seoul, plus the following city information about Seoul: CITY, COUNTRY, LAT, LON, POPULATION, in a single view.\n",
    "Notice that in this case, the CITY column will work for the WORLD_CITIES table, but in general you would have to use the CITY_ASCII column.\n"
   ]
  },
  {
   "cell_type": "markdown",
   "metadata": {},
   "source": [
    "### Solution 10\n"
   ]
  },
  {
   "cell_type": "code",
   "execution_count": 3,
   "metadata": {},
   "outputs": [
    {
     "ename": "ERROR",
     "evalue": "Error in dbListTables(con): could not find function \"dbListTables\"\n",
     "output_type": "error",
     "traceback": [
      "Error in dbListTables(con): could not find function \"dbListTables\"\nTraceback:\n"
     ]
    }
   ],
   "source": [
    "\n",
    "dbListTables(con)\n",
    "\n"
   ]
  },
  {
   "cell_type": "code",
   "execution_count": 22,
   "metadata": {},
   "outputs": [
    {
     "ename": "ERROR",
     "evalue": "Error in parse(text = input): <text>:2:15: unexpected symbol\n1: SELECT \n2:     wc.CIUDAD AS\n                 ^\n",
     "output_type": "error",
     "traceback": [
      "Error in parse(text = input): <text>:2:15: unexpected symbol\n1: SELECT \n2:     wc.CIUDAD AS\n                 ^\nTraceback:\n"
     ]
    }
   ],
   "source": [
    "SELECT \n",
    "    wc.CIUDAD AS CITY, \n",
    "    wc.PAÍS AS COUNTRY, \n",
    "    wc.LAT, \n",
    "    wc.GNL AS LON, \n",
    "    wc.POBLACIÓN AS POPULATION, \n",
    "    bss.NUM_BIKES AS TOTAL_BIKES\n",
    "FROM WORLD_CITIES wc, BIKE_SHARING_SYSTEMS bss\n",
    "WHERE wc.CIUDAD COLLATE NOCASE = 'Seúl'\n",
    "AND bss.CITY_ASCII COLLATE NOCASE = 'Seoul';\n",
    "\n"
   ]
  },
  {
   "cell_type": "markdown",
   "metadata": {},
   "source": [
    "## Task 11 - Find all city names and coordinates with comparable bike scale to Seoul's bike sharing system\n",
    "#### Find all cities with total bike counts between 15000 and 20000. Return the city and country names, plus the coordinates (LAT, LNG), population, and number of bicycles for each city.\n",
    "Later we will ask you to visualize these similar cities on leaflet, with some weather data.\n"
   ]
  },
  {
   "cell_type": "markdown",
   "metadata": {},
   "source": [
    "### Solution 11\n"
   ]
  },
  {
   "cell_type": "code",
   "execution_count": null,
   "metadata": {},
   "outputs": [],
   "source": [
    "# provide your solution here"
   ]
  },
  {
   "cell_type": "code",
   "execution_count": null,
   "metadata": {},
   "outputs": [],
   "source": [
    "close(conn)"
   ]
  },
  {
   "cell_type": "markdown",
   "metadata": {},
   "source": [
    "## Author(s)\n",
    "\n",
    "<h4> Jeff Grossman </h4>\n",
    "<h4> Lakshmi Holla </h4>\n",
    "\n",
    "\n",
    "## Other Contributor(s)\n",
    "\n",
    "<h4>  Malika Singla </h4>\n",
    "\n",
    "<!--## Change log\n",
    "\n",
    "| Date (YYYY-MM-DD) | Version | Changed By | Change Description                 |\n",
    "| ----------------- | ------- | ---------- | ---------------------------------- |\n",
    "| 2022-03-03        | 1.0     |Lakshmi Holla  | Created lab using sqlite3          |-->\n",
    "\n",
    "## <h3 align=\"center\"> © IBM Corporation 2022. All rights reserved. <h3/>\n"
   ]
  },
  {
   "cell_type": "code",
   "execution_count": null,
   "metadata": {},
   "outputs": [],
   "source": []
  }
 ],
 "metadata": {
  "kernelspec": {
   "display_name": "R",
   "language": "R",
   "name": "ir"
  },
  "language_info": {
   "codemirror_mode": "r",
   "file_extension": ".r",
   "mimetype": "text/x-r-source",
   "name": "R",
   "pygments_lexer": "r",
   "version": "4.4.2"
  },
  "prev_pub_hash": "a1035d2263d59b4555fbf1de2034910a6356cb94ee9658cc0c379ead18c4444c"
 },
 "nbformat": 4,
 "nbformat_minor": 4
}
